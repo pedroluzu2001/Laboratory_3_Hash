{
  "nbformat": 4,
  "nbformat_minor": 0,
  "metadata": {
    "colab": {
      "provenance": []
    },
    "kernelspec": {
      "name": "python3",
      "display_name": "Python 3"
    },
    "language_info": {
      "name": "python"
    }
  },
  "cells": [
    {
      "cell_type": "code",
      "execution_count": null,
      "metadata": {
        "id": "XfDMRDlbrq-2"
      },
      "outputs": [],
      "source": [
        "#QIUESTION D\n",
        "\n",
        "from passlib.hash import lmhash, nthash\n",
        "\n",
        "palabras = [\"Napier\", \"Foxrot\"]  # Lista de palabras\n",
        "for palabra in palabras:\n",
        "    palabra_mayus = palabra.upper()  # Convertir la palabra a mayúsculas\n",
        "    lm = lmhash.hash(palabra_mayus)  # Generar el hash LM\n",
        "    ntlm = nthash.hash(palabra_mayus)  # Generar el hash NTLM\n",
        "\n",
        "    print(f\"Palabra: {palabra}\")\n",
        "    print(f\"Hash LM: {lm}\")\n",
        "    print(f\"Hash NTLM: {ntlm}\")\n",
        "    print()\n"
      ]
    },
    {
      "cell_type": "code",
      "source": [
        "# QUESTION E\n",
        "import passlib.hash\n",
        "salt = \"PkWj6gM4\"\n",
        "passwords = [\"changeme\", \"123456\", \"password\"]\n",
        "for password in passwords:\n",
        "    hashed_password = passlib.hash.apr_md5_crypt.hash(password, salt=salt)\n",
        "    chars = hashed_password\n",
        "    print(f\"Password: {password}\")\n",
        "    print(f\"APR1 Hash : {chars}\")\n",
        "    print()\n"
      ],
      "metadata": {
        "id": "NmYNGyi-sBCB"
      },
      "execution_count": null,
      "outputs": []
    },
    {
      "cell_type": "code",
      "source": [
        "#question f\n",
        "from passlib.hash import sha1_crypt, sha256_crypt, sha512_crypt\n",
        "\n",
        "sal = \"8sFt66rZ\"  # Sal para los hashes\n",
        "contrasenas = [\"changeme\", \"123456\", \"password\"]  # Lista de contraseñas\n",
        "\n",
        "for clave in contrasenas:\n",
        "    hash_sha1 = sha1_crypt.hash(clave, salt=sal)\n",
        "    hash_sha256 = sha256_crypt.hash(clave, salt=sal)\n",
        "    hash_sha512 = sha512_crypt.hash(clave, salt=sal)\n",
        "\n",
        "    print(f\"Contraseña: {clave}\")\n",
        "    print(f\"SHA1: {hash_sha1}\")\n",
        "    print(f\"SHA256: {hash_sha256}\")\n",
        "    print(f\"SHA512: {hash_sha512}\")\n",
        "    print()\n"
      ],
      "metadata": {
        "id": "x_fbfUPosKqR"
      },
      "execution_count": null,
      "outputs": []
    },
    {
      "cell_type": "code",
      "source": [
        "#QUESTION G1\n",
        "from passlib.hash import pbkdf2_sha1, pbkdf2_sha256\n",
        "\n",
        "sal = \"ZDzPE45C\"\n",
        "claves = [\"changeme\", \"123456\", \"password\"]\n",
        "\n",
        "for clave in claves:\n",
        "    hash_pbkdf2_sha1 = pbkdf2_sha1.hash(clave, salt=sal.encode())\n",
        "    hash_pbkdf2_sha256 = pbkdf2_sha256.hash(clave, salt=sal.encode())\n",
        "\n",
        "    print(f\"Clave: {clave}\")\n",
        "    print(f\"PBKDF2 (SHA1): {hash_pbkdf2_sha1}\")\n",
        "    print(f\"PBKDF2 (SHA256): {hash_pbkdf2_sha256}\")\n",
        "    print()\n",
        "\n"
      ],
      "metadata": {
        "id": "3KCPM9lvsl8Z"
      },
      "execution_count": null,
      "outputs": []
    },
    {
      "cell_type": "code",
      "source": [
        "#QUESTION G2\n",
        "from argon2 import PasswordHasher, exceptions\n",
        "from getpass import getpass\n",
        "\n",
        "argon2_hash = PasswordHasher()\n",
        "\n",
        "def generar_hash(contrasena):\n",
        "    return argon2_hash.hash(contrasena)\n",
        "\n",
        "def verificar_contrasena(hash_contrasena, contrasena_entrada):\n",
        "    try:\n",
        "        argon2_hash.verify(hash_contrasena, contrasena_entrada)\n",
        "        return True\n",
        "    except exceptions.VerifyMismatchError:\n",
        "        return False\n",
        "\n",
        "if __name__ == \"__main__\":\n",
        "    print(\"Ejemplo de Hashing de Contraseña con Argon2\")\n",
        "\n",
        "    contrasena = getpass(\"Ingrese una contraseña: \")\n",
        "    hash_contrasena = generar_hash(contrasena)\n",
        "    print(f\"Contraseña Hasheada: {hash_contrasena}\")\n",
        "    contrasena_entrada = getpass(\"Ingrese la contraseña para verificar: \")\n",
        "    if verificar_contrasena(hash_contrasena, contrasena_entrada):\n",
        "        print(\"Verificación de Contraseña: Coincide\")\n",
        "    else:\n",
        "        print(\"Verificación de Contraseña Fallida: No Coincide\")\n"
      ],
      "metadata": {
        "id": "Uggymx6FtAN_"
      },
      "execution_count": null,
      "outputs": []
    }
  ]
}